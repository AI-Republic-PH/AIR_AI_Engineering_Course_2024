{
  "nbformat": 4,
  "nbformat_minor": 0,
  "metadata": {
    "colab": {
      "provenance": [],
      "authorship_tag": "ABX9TyMGCxuTtkgGrW/9WOsOQAIY",
      "include_colab_link": true
    },
    "kernelspec": {
      "name": "python3",
      "display_name": "Python 3"
    },
    "language_info": {
      "name": "python"
    }
  },
  "cells": [
    {
      "cell_type": "markdown",
      "metadata": {
        "id": "view-in-github",
        "colab_type": "text"
      },
      "source": [
        "<a href=\"https://colab.research.google.com/github/angelaaaateng/AIR_AI_Engineering_Course_2024/blob/main/Day1/1_Processing_IMDB_Reviews.ipynb\" target=\"_parent\"><img src=\"https://colab.research.google.com/assets/colab-badge.svg\" alt=\"Open In Colab\"/></a>"
      ]
    },
    {
      "cell_type": "markdown",
      "source": [
        "# Text Processing Short Activity\n",
        "\n",
        "**Instructions:**\n",
        "1. Download the IMDB Dataset from here or directly from our Github [here](https://github.com/angelaaaateng/AIR_AI_Engineering_Course_2024/raw/refs/heads/main/Datasets/IMDB_Dataset.csv)\n",
        "2. Tokenization with NLTK and SpaCy\n",
        "3. Stopword Removal\n",
        "4. Stemming & Lemmatization\n",
        "5. Compare Results. Once you're done, look at the differences between NLTK and spaCy. Which approach do you think is more suitable for this dataset? What are some differences that you saw in these 2 packages?\n",
        "\n"
      ],
      "metadata": {
        "id": "9BqHvDVEb6wd"
      }
    },
    {
      "cell_type": "code",
      "source": [
        "# Import necessary libraries\n",
        "import pandas as pd\n",
        "import nltk\n",
        "import spacy\n",
        "from nltk.tokenize import word_tokenize\n",
        "from nltk.corpus import stopwords\n",
        "from nltk.stem import PorterStemmer, WordNetLemmatizer\n",
        "from spacy.lang.en.stop_words import STOP_WORDS as spacy_stopwords\n",
        "import matplotlib.pyplot as plt\n",
        "\n",
        "# Download NLTK resources\n",
        "nltk.download('punkt')\n",
        "nltk.download('stopwords')\n",
        "nltk.download('wordnet')"
      ],
      "metadata": {
        "id": "7LH2qsg8Qsk5",
        "colab": {
          "base_uri": "https://localhost:8080/"
        },
        "outputId": "4804707a-a5aa-4555-b31c-bbd0c81efb86"
      },
      "execution_count": 4,
      "outputs": [
        {
          "output_type": "stream",
          "name": "stderr",
          "text": [
            "[nltk_data] Downloading package punkt to /root/nltk_data...\n",
            "[nltk_data]   Package punkt is already up-to-date!\n",
            "[nltk_data] Downloading package stopwords to /root/nltk_data...\n",
            "[nltk_data]   Package stopwords is already up-to-date!\n",
            "[nltk_data] Downloading package wordnet to /root/nltk_data...\n",
            "[nltk_data]   Package wordnet is already up-to-date!\n"
          ]
        },
        {
          "output_type": "execute_result",
          "data": {
            "text/plain": [
              "True"
            ]
          },
          "metadata": {},
          "execution_count": 4
        }
      ]
    },
    {
      "cell_type": "code",
      "source": [
        "# Load the IMDB dataset from Github\n",
        "url = \"https://github.com/angelaaaateng/AIR_AI_Engineering_Course_2024/raw/refs/heads/main/Datasets/IMDB_Dataset.csv\"\n",
        "data = pd.read_csv(url)\n",
        "\n",
        "# Display the first few rows to understand the structure of the dataset\n",
        "data.head()"
      ],
      "metadata": {
        "colab": {
          "base_uri": "https://localhost:8080/",
          "height": 206
        },
        "id": "s9yrsmL9cSUP",
        "outputId": "e67c7f77-bcf4-41af-dfe7-bc68c44c3fe9"
      },
      "execution_count": 5,
      "outputs": [
        {
          "output_type": "execute_result",
          "data": {
            "text/plain": [
              "                                              review sentiment\n",
              "0  One of the other reviewers has mentioned that ...  positive\n",
              "1  A wonderful little production. <br /><br />The...  positive\n",
              "2  I thought this was a wonderful way to spend ti...  positive\n",
              "3  Basically there's a family where a little boy ...  negative\n",
              "4  Petter Mattei's \"Love in the Time of Money\" is...  positive"
            ],
            "text/html": [
              "\n",
              "  <div id=\"df-d299531f-cf34-44a3-b7d5-d5bf51af234e\" class=\"colab-df-container\">\n",
              "    <div>\n",
              "<style scoped>\n",
              "    .dataframe tbody tr th:only-of-type {\n",
              "        vertical-align: middle;\n",
              "    }\n",
              "\n",
              "    .dataframe tbody tr th {\n",
              "        vertical-align: top;\n",
              "    }\n",
              "\n",
              "    .dataframe thead th {\n",
              "        text-align: right;\n",
              "    }\n",
              "</style>\n",
              "<table border=\"1\" class=\"dataframe\">\n",
              "  <thead>\n",
              "    <tr style=\"text-align: right;\">\n",
              "      <th></th>\n",
              "      <th>review</th>\n",
              "      <th>sentiment</th>\n",
              "    </tr>\n",
              "  </thead>\n",
              "  <tbody>\n",
              "    <tr>\n",
              "      <th>0</th>\n",
              "      <td>One of the other reviewers has mentioned that ...</td>\n",
              "      <td>positive</td>\n",
              "    </tr>\n",
              "    <tr>\n",
              "      <th>1</th>\n",
              "      <td>A wonderful little production. &lt;br /&gt;&lt;br /&gt;The...</td>\n",
              "      <td>positive</td>\n",
              "    </tr>\n",
              "    <tr>\n",
              "      <th>2</th>\n",
              "      <td>I thought this was a wonderful way to spend ti...</td>\n",
              "      <td>positive</td>\n",
              "    </tr>\n",
              "    <tr>\n",
              "      <th>3</th>\n",
              "      <td>Basically there's a family where a little boy ...</td>\n",
              "      <td>negative</td>\n",
              "    </tr>\n",
              "    <tr>\n",
              "      <th>4</th>\n",
              "      <td>Petter Mattei's \"Love in the Time of Money\" is...</td>\n",
              "      <td>positive</td>\n",
              "    </tr>\n",
              "  </tbody>\n",
              "</table>\n",
              "</div>\n",
              "    <div class=\"colab-df-buttons\">\n",
              "\n",
              "  <div class=\"colab-df-container\">\n",
              "    <button class=\"colab-df-convert\" onclick=\"convertToInteractive('df-d299531f-cf34-44a3-b7d5-d5bf51af234e')\"\n",
              "            title=\"Convert this dataframe to an interactive table.\"\n",
              "            style=\"display:none;\">\n",
              "\n",
              "  <svg xmlns=\"http://www.w3.org/2000/svg\" height=\"24px\" viewBox=\"0 -960 960 960\">\n",
              "    <path d=\"M120-120v-720h720v720H120Zm60-500h600v-160H180v160Zm220 220h160v-160H400v160Zm0 220h160v-160H400v160ZM180-400h160v-160H180v160Zm440 0h160v-160H620v160ZM180-180h160v-160H180v160Zm440 0h160v-160H620v160Z\"/>\n",
              "  </svg>\n",
              "    </button>\n",
              "\n",
              "  <style>\n",
              "    .colab-df-container {\n",
              "      display:flex;\n",
              "      gap: 12px;\n",
              "    }\n",
              "\n",
              "    .colab-df-convert {\n",
              "      background-color: #E8F0FE;\n",
              "      border: none;\n",
              "      border-radius: 50%;\n",
              "      cursor: pointer;\n",
              "      display: none;\n",
              "      fill: #1967D2;\n",
              "      height: 32px;\n",
              "      padding: 0 0 0 0;\n",
              "      width: 32px;\n",
              "    }\n",
              "\n",
              "    .colab-df-convert:hover {\n",
              "      background-color: #E2EBFA;\n",
              "      box-shadow: 0px 1px 2px rgba(60, 64, 67, 0.3), 0px 1px 3px 1px rgba(60, 64, 67, 0.15);\n",
              "      fill: #174EA6;\n",
              "    }\n",
              "\n",
              "    .colab-df-buttons div {\n",
              "      margin-bottom: 4px;\n",
              "    }\n",
              "\n",
              "    [theme=dark] .colab-df-convert {\n",
              "      background-color: #3B4455;\n",
              "      fill: #D2E3FC;\n",
              "    }\n",
              "\n",
              "    [theme=dark] .colab-df-convert:hover {\n",
              "      background-color: #434B5C;\n",
              "      box-shadow: 0px 1px 3px 1px rgba(0, 0, 0, 0.15);\n",
              "      filter: drop-shadow(0px 1px 2px rgba(0, 0, 0, 0.3));\n",
              "      fill: #FFFFFF;\n",
              "    }\n",
              "  </style>\n",
              "\n",
              "    <script>\n",
              "      const buttonEl =\n",
              "        document.querySelector('#df-d299531f-cf34-44a3-b7d5-d5bf51af234e button.colab-df-convert');\n",
              "      buttonEl.style.display =\n",
              "        google.colab.kernel.accessAllowed ? 'block' : 'none';\n",
              "\n",
              "      async function convertToInteractive(key) {\n",
              "        const element = document.querySelector('#df-d299531f-cf34-44a3-b7d5-d5bf51af234e');\n",
              "        const dataTable =\n",
              "          await google.colab.kernel.invokeFunction('convertToInteractive',\n",
              "                                                    [key], {});\n",
              "        if (!dataTable) return;\n",
              "\n",
              "        const docLinkHtml = 'Like what you see? Visit the ' +\n",
              "          '<a target=\"_blank\" href=https://colab.research.google.com/notebooks/data_table.ipynb>data table notebook</a>'\n",
              "          + ' to learn more about interactive tables.';\n",
              "        element.innerHTML = '';\n",
              "        dataTable['output_type'] = 'display_data';\n",
              "        await google.colab.output.renderOutput(dataTable, element);\n",
              "        const docLink = document.createElement('div');\n",
              "        docLink.innerHTML = docLinkHtml;\n",
              "        element.appendChild(docLink);\n",
              "      }\n",
              "    </script>\n",
              "  </div>\n",
              "\n",
              "\n",
              "<div id=\"df-a1f1789b-3a6f-4182-b881-e2976ab81408\">\n",
              "  <button class=\"colab-df-quickchart\" onclick=\"quickchart('df-a1f1789b-3a6f-4182-b881-e2976ab81408')\"\n",
              "            title=\"Suggest charts\"\n",
              "            style=\"display:none;\">\n",
              "\n",
              "<svg xmlns=\"http://www.w3.org/2000/svg\" height=\"24px\"viewBox=\"0 0 24 24\"\n",
              "     width=\"24px\">\n",
              "    <g>\n",
              "        <path d=\"M19 3H5c-1.1 0-2 .9-2 2v14c0 1.1.9 2 2 2h14c1.1 0 2-.9 2-2V5c0-1.1-.9-2-2-2zM9 17H7v-7h2v7zm4 0h-2V7h2v10zm4 0h-2v-4h2v4z\"/>\n",
              "    </g>\n",
              "</svg>\n",
              "  </button>\n",
              "\n",
              "<style>\n",
              "  .colab-df-quickchart {\n",
              "      --bg-color: #E8F0FE;\n",
              "      --fill-color: #1967D2;\n",
              "      --hover-bg-color: #E2EBFA;\n",
              "      --hover-fill-color: #174EA6;\n",
              "      --disabled-fill-color: #AAA;\n",
              "      --disabled-bg-color: #DDD;\n",
              "  }\n",
              "\n",
              "  [theme=dark] .colab-df-quickchart {\n",
              "      --bg-color: #3B4455;\n",
              "      --fill-color: #D2E3FC;\n",
              "      --hover-bg-color: #434B5C;\n",
              "      --hover-fill-color: #FFFFFF;\n",
              "      --disabled-bg-color: #3B4455;\n",
              "      --disabled-fill-color: #666;\n",
              "  }\n",
              "\n",
              "  .colab-df-quickchart {\n",
              "    background-color: var(--bg-color);\n",
              "    border: none;\n",
              "    border-radius: 50%;\n",
              "    cursor: pointer;\n",
              "    display: none;\n",
              "    fill: var(--fill-color);\n",
              "    height: 32px;\n",
              "    padding: 0;\n",
              "    width: 32px;\n",
              "  }\n",
              "\n",
              "  .colab-df-quickchart:hover {\n",
              "    background-color: var(--hover-bg-color);\n",
              "    box-shadow: 0 1px 2px rgba(60, 64, 67, 0.3), 0 1px 3px 1px rgba(60, 64, 67, 0.15);\n",
              "    fill: var(--button-hover-fill-color);\n",
              "  }\n",
              "\n",
              "  .colab-df-quickchart-complete:disabled,\n",
              "  .colab-df-quickchart-complete:disabled:hover {\n",
              "    background-color: var(--disabled-bg-color);\n",
              "    fill: var(--disabled-fill-color);\n",
              "    box-shadow: none;\n",
              "  }\n",
              "\n",
              "  .colab-df-spinner {\n",
              "    border: 2px solid var(--fill-color);\n",
              "    border-color: transparent;\n",
              "    border-bottom-color: var(--fill-color);\n",
              "    animation:\n",
              "      spin 1s steps(1) infinite;\n",
              "  }\n",
              "\n",
              "  @keyframes spin {\n",
              "    0% {\n",
              "      border-color: transparent;\n",
              "      border-bottom-color: var(--fill-color);\n",
              "      border-left-color: var(--fill-color);\n",
              "    }\n",
              "    20% {\n",
              "      border-color: transparent;\n",
              "      border-left-color: var(--fill-color);\n",
              "      border-top-color: var(--fill-color);\n",
              "    }\n",
              "    30% {\n",
              "      border-color: transparent;\n",
              "      border-left-color: var(--fill-color);\n",
              "      border-top-color: var(--fill-color);\n",
              "      border-right-color: var(--fill-color);\n",
              "    }\n",
              "    40% {\n",
              "      border-color: transparent;\n",
              "      border-right-color: var(--fill-color);\n",
              "      border-top-color: var(--fill-color);\n",
              "    }\n",
              "    60% {\n",
              "      border-color: transparent;\n",
              "      border-right-color: var(--fill-color);\n",
              "    }\n",
              "    80% {\n",
              "      border-color: transparent;\n",
              "      border-right-color: var(--fill-color);\n",
              "      border-bottom-color: var(--fill-color);\n",
              "    }\n",
              "    90% {\n",
              "      border-color: transparent;\n",
              "      border-bottom-color: var(--fill-color);\n",
              "    }\n",
              "  }\n",
              "</style>\n",
              "\n",
              "  <script>\n",
              "    async function quickchart(key) {\n",
              "      const quickchartButtonEl =\n",
              "        document.querySelector('#' + key + ' button');\n",
              "      quickchartButtonEl.disabled = true;  // To prevent multiple clicks.\n",
              "      quickchartButtonEl.classList.add('colab-df-spinner');\n",
              "      try {\n",
              "        const charts = await google.colab.kernel.invokeFunction(\n",
              "            'suggestCharts', [key], {});\n",
              "      } catch (error) {\n",
              "        console.error('Error during call to suggestCharts:', error);\n",
              "      }\n",
              "      quickchartButtonEl.classList.remove('colab-df-spinner');\n",
              "      quickchartButtonEl.classList.add('colab-df-quickchart-complete');\n",
              "    }\n",
              "    (() => {\n",
              "      let quickchartButtonEl =\n",
              "        document.querySelector('#df-a1f1789b-3a6f-4182-b881-e2976ab81408 button');\n",
              "      quickchartButtonEl.style.display =\n",
              "        google.colab.kernel.accessAllowed ? 'block' : 'none';\n",
              "    })();\n",
              "  </script>\n",
              "</div>\n",
              "\n",
              "    </div>\n",
              "  </div>\n"
            ],
            "application/vnd.google.colaboratory.intrinsic+json": {
              "type": "dataframe",
              "variable_name": "data",
              "summary": "{\n  \"name\": \"data\",\n  \"rows\": 50000,\n  \"fields\": [\n    {\n      \"column\": \"review\",\n      \"properties\": {\n        \"dtype\": \"string\",\n        \"num_unique_values\": 49582,\n        \"samples\": [\n          \"\\\"Soul Plane\\\" is a horrible attempt at comedy that only should appeal people with thick skulls, bloodshot eyes and furry pawns. <br /><br />The plot is not only incoherent but also non-existent, acting is mostly sub sub-par with a gang of highly moronic and dreadful characters thrown in for bad measure, jokes are often spotted miles ahead and almost never even a bit amusing. This movie lacks any structure and is full of racial stereotypes that must have seemed old even in the fifties, the only thing it really has going for it is some pretty ladies, but really, if you want that you can rent something from the \\\"Adult\\\" section. OK?<br /><br />I can hardly see anything here to recommend since you'll probably have a lot a better and productive time chasing rats with a sledgehammer or inventing waterproof teabags or whatever.<br /><br />2/10\",\n          \"Guest from the Future tells a fascinating story of time travel, friendship, battle of good and evil -- all with a small budget, child actors, and few special effects. Something for Spielberg and Lucas to learn from. ;) A sixth-grader Kolya \\\"Nick\\\" Gerasimov finds a time machine in the basement of a decrepit building and travels 100 years into the future. He discovers a near-perfect, utopian society where robots play guitars and write poetry, everyone is kind to each other and people enjoy everything technology has to offer. Alice is the daughter of a prominent scientist who invented a device called Mielophone that allows to read minds of humans and animals. The device can be put to both good and bad use, depending on whose hands it falls into. When two evil space pirates from Saturn who want to rule the universe attempt to steal Mielophone, it falls into the hands of 20th century school boy Nick. With the pirates hot on his tracks, he travels back to his time, followed by the pirates, and Alice. Chaos, confusion and funny situations follow as the luckless pirates try to blend in with the earthlings. Alice enrolls in the same school Nick goes to and demonstrates superhuman abilities in PE class. The catch is, Alice doesn't know what Nick looks like, while the pirates do. Also, the pirates are able to change their appearance and turn literally into anyone. (Hmm, I wonder if this is where James Cameron got the idea for Terminator...) Who gets to Nick -- and Mielophone -- first? Excellent plot, non-stop adventures, and great soundtrack. I wish Hollywood made kid movies like this one...\",\n          \"\\\"National Treasure\\\" (2004) is a thoroughly misguided hodge-podge of plot entanglements that borrow from nearly every cloak and dagger government conspiracy clich\\u00e9 that has ever been written. The film stars Nicholas Cage as Benjamin Franklin Gates (how precious is that, I ask you?); a seemingly normal fellow who, for no other reason than being of a lineage of like-minded misguided fortune hunters, decides to steal a 'national treasure' that has been hidden by the United States founding fathers. After a bit of subtext and background that plays laughably (unintentionally) like Indiana Jones meets The Patriot, the film degenerates into one misguided whimsy after another \\u0096 attempting to create a 'Stanley Goodspeed' regurgitation of Nicholas Cage and launch the whole convoluted mess forward with a series of high octane, but disconnected misadventures.<br /><br />The relevancy and logic to having George Washington and his motley crew of patriots burying a king's ransom someplace on native soil, and then, going through the meticulous plan of leaving clues scattered throughout U.S. currency art work, is something that director Jon Turteltaub never quite gets around to explaining. Couldn't Washington found better usage for such wealth during the start up of the country? Hence, we are left with a mystery built on top of an enigma that is already on shaky ground by the time Ben appoints himself the new custodian of this untold wealth. Ben's intentions are noble \\u0096 if confusing. He's set on protecting the treasure. For who and when?\\u0085your guess is as good as mine.<br /><br />But there are a few problems with Ben's crusade. First up, his friend, Ian Holmes (Sean Bean) decides that he can't wait for Ben to make up his mind about stealing the Declaration of Independence from the National Archives (oh, yeah \\u0096 brilliant idea!). Presumably, the back of that famous document holds the secret answer to the ultimate fortune. So Ian tries to kill Ben. The assassination attempt is, of course, unsuccessful, if overly melodramatic. It also affords Ben the opportunity to pick up, and pick on, the very sultry curator of the archives, Abigail Chase (Diane Kruger). She thinks Ben is clearly a nut \\u0096 at least at the beginning. But true to action/romance form, Abby's resolve melts quicker than you can say, \\\"is that the Hope Diamond?\\\" The film moves into full X-File-ish mode, as the FBI, mistakenly believing that Ben is behind the theft, retaliate in various benign ways that lead to a multi-layering of action sequences reminiscent of Mission Impossible meets The Fugitive. Honestly, don't those guys ever get 'intelligence' information that is correct? In the final analysis, \\\"National Treasure\\\" isn't great film making, so much as it's a patchwork rehash of tired old bits from other movies, woven together from scraps, the likes of which would make IL' Betsy Ross blush.<br /><br />The Buena Vista DVD delivers a far more generous treatment than this film is deserving of. The anamorphic widescreen picture exhibits a very smooth and finely detailed image with very rich colors, natural flesh tones, solid blacks and clean whites. The stylized image is also free of blemishes and digital enhancements. The audio is 5.1 and delivers a nice sonic boom to your side and rear speakers with intensity and realism. Extras include a host of promotional junket material that is rather deep and over the top in its explanation of how and why this film was made. If only, as an audience, we had had more clarification as to why Ben and co. were chasing after an illusive treasure, this might have been one good flick. Extras conclude with the theatrical trailer, audio commentary and deleted scenes. Not for the faint-hearted \\u0096 just the thick-headed.\"\n        ],\n        \"semantic_type\": \"\",\n        \"description\": \"\"\n      }\n    },\n    {\n      \"column\": \"sentiment\",\n      \"properties\": {\n        \"dtype\": \"category\",\n        \"num_unique_values\": 2,\n        \"samples\": [\n          \"negative\",\n          \"positive\"\n        ],\n        \"semantic_type\": \"\",\n        \"description\": \"\"\n      }\n    }\n  ]\n}"
            }
          },
          "metadata": {},
          "execution_count": 5
        }
      ]
    },
    {
      "cell_type": "code",
      "source": [
        "# Define functions for text preprocessing using NLTK\n",
        "def preprocess_nltk(text):\n",
        "    # Tokenization using NLTK\n",
        "    tokens = word_tokenize(text)\n",
        "\n",
        "    # Remove stopwords using NLTK's English stopword list\n",
        "    stop_words = set(stopwords.words('english'))\n",
        "    filtered_tokens = [word for word in tokens if word.lower() not in stop_words]\n",
        "\n",
        "    # Stemming using PorterStemmer\n",
        "    stemmer = PorterStemmer()\n",
        "    stemmed_tokens = [stemmer.stem(word) for word in filtered_tokens]\n",
        "\n",
        "    # Lemmatization using WordNetLemmatizer\n",
        "    lemmatizer = WordNetLemmatizer()\n",
        "    lemmatized_tokens = [lemmatizer.lemmatize(word) for word in filtered_tokens]\n",
        "\n",
        "    return {'tokens': tokens, 'filtered_tokens': filtered_tokens, 'stemmed_tokens': stemmed_tokens, 'lemmatized_tokens': lemmatized_tokens}"
      ],
      "metadata": {
        "id": "m394DkPTbAHT"
      },
      "execution_count": 6,
      "outputs": []
    },
    {
      "cell_type": "code",
      "source": [
        "# Define functions for text preprocessing using SpaCy\n",
        "def preprocess_spacy(text, nlp):\n",
        "    # Tokenization using SpaCy's language model\n",
        "    doc = nlp(text)\n",
        "    tokens = [token.text for token in doc]\n",
        "\n",
        "    # Remove stopwords using SpaCy's built-in stopword list\n",
        "    filtered_tokens = [token.text for token in doc if token.text.lower() not in spacy_stopwords]\n",
        "\n",
        "    # Lemmatization using SpaCy\n",
        "    lemmatized_tokens = [token.lemma_ for token in doc]\n",
        "\n",
        "    return {'tokens': tokens, 'filtered_tokens': filtered_tokens, 'lemmatized_tokens': lemmatized_tokens}"
      ],
      "metadata": {
        "id": "OPVfKzAbccNs"
      },
      "execution_count": 7,
      "outputs": []
    },
    {
      "cell_type": "code",
      "source": [
        "# Load SpaCy's small English model\n",
        "nlp = spacy.load('en_core_web_sm')\n",
        "\n",
        "# Preprocess the first review using NLTK\n",
        "nltk_preprocessed = preprocess_nltk(data['review'][0])\n",
        "print(\"NLTK Preprocessed Output:\\n\", nltk_preprocessed)\n",
        "\n",
        "# Preprocess the first review using SpaCy\n",
        "spacy_preprocessed = preprocess_spacy(data['review'][0], nlp)\n",
        "print(\"\\nSpaCy Preprocessed Output:\\n\", spacy_preprocessed)\n"
      ],
      "metadata": {
        "colab": {
          "base_uri": "https://localhost:8080/"
        },
        "id": "sX82gyNccfhz",
        "outputId": "884141ff-e55c-4e81-da8b-6fcca11be3c8"
      },
      "execution_count": 8,
      "outputs": [
        {
          "output_type": "stream",
          "name": "stdout",
          "text": [
            "NLTK Preprocessed Output:\n",
            " {'tokens': ['One', 'of', 'the', 'other', 'reviewers', 'has', 'mentioned', 'that', 'after', 'watching', 'just', '1', 'Oz', 'episode', 'you', \"'ll\", 'be', 'hooked', '.', 'They', 'are', 'right', ',', 'as', 'this', 'is', 'exactly', 'what', 'happened', 'with', 'me.', '<', 'br', '/', '>', '<', 'br', '/', '>', 'The', 'first', 'thing', 'that', 'struck', 'me', 'about', 'Oz', 'was', 'its', 'brutality', 'and', 'unflinching', 'scenes', 'of', 'violence', ',', 'which', 'set', 'in', 'right', 'from', 'the', 'word', 'GO', '.', 'Trust', 'me', ',', 'this', 'is', 'not', 'a', 'show', 'for', 'the', 'faint', 'hearted', 'or', 'timid', '.', 'This', 'show', 'pulls', 'no', 'punches', 'with', 'regards', 'to', 'drugs', ',', 'sex', 'or', 'violence', '.', 'Its', 'is', 'hardcore', ',', 'in', 'the', 'classic', 'use', 'of', 'the', 'word.', '<', 'br', '/', '>', '<', 'br', '/', '>', 'It', 'is', 'called', 'OZ', 'as', 'that', 'is', 'the', 'nickname', 'given', 'to', 'the', 'Oswald', 'Maximum', 'Security', 'State', 'Penitentary', '.', 'It', 'focuses', 'mainly', 'on', 'Emerald', 'City', ',', 'an', 'experimental', 'section', 'of', 'the', 'prison', 'where', 'all', 'the', 'cells', 'have', 'glass', 'fronts', 'and', 'face', 'inwards', ',', 'so', 'privacy', 'is', 'not', 'high', 'on', 'the', 'agenda', '.', 'Em', 'City', 'is', 'home', 'to', 'many', '..', 'Aryans', ',', 'Muslims', ',', 'gangstas', ',', 'Latinos', ',', 'Christians', ',', 'Italians', ',', 'Irish', 'and', 'more', '....', 'so', 'scuffles', ',', 'death', 'stares', ',', 'dodgy', 'dealings', 'and', 'shady', 'agreements', 'are', 'never', 'far', 'away.', '<', 'br', '/', '>', '<', 'br', '/', '>', 'I', 'would', 'say', 'the', 'main', 'appeal', 'of', 'the', 'show', 'is', 'due', 'to', 'the', 'fact', 'that', 'it', 'goes', 'where', 'other', 'shows', 'would', \"n't\", 'dare', '.', 'Forget', 'pretty', 'pictures', 'painted', 'for', 'mainstream', 'audiences', ',', 'forget', 'charm', ',', 'forget', 'romance', '...', 'OZ', 'does', \"n't\", 'mess', 'around', '.', 'The', 'first', 'episode', 'I', 'ever', 'saw', 'struck', 'me', 'as', 'so', 'nasty', 'it', 'was', 'surreal', ',', 'I', 'could', \"n't\", 'say', 'I', 'was', 'ready', 'for', 'it', ',', 'but', 'as', 'I', 'watched', 'more', ',', 'I', 'developed', 'a', 'taste', 'for', 'Oz', ',', 'and', 'got', 'accustomed', 'to', 'the', 'high', 'levels', 'of', 'graphic', 'violence', '.', 'Not', 'just', 'violence', ',', 'but', 'injustice', '(', 'crooked', 'guards', 'who', \"'ll\", 'be', 'sold', 'out', 'for', 'a', 'nickel', ',', 'inmates', 'who', \"'ll\", 'kill', 'on', 'order', 'and', 'get', 'away', 'with', 'it', ',', 'well', 'mannered', ',', 'middle', 'class', 'inmates', 'being', 'turned', 'into', 'prison', 'bitches', 'due', 'to', 'their', 'lack', 'of', 'street', 'skills', 'or', 'prison', 'experience', ')', 'Watching', 'Oz', ',', 'you', 'may', 'become', 'comfortable', 'with', 'what', 'is', 'uncomfortable', 'viewing', '....', 'thats', 'if', 'you', 'can', 'get', 'in', 'touch', 'with', 'your', 'darker', 'side', '.'], 'filtered_tokens': ['One', 'reviewers', 'mentioned', 'watching', '1', 'Oz', 'episode', \"'ll\", 'hooked', '.', 'right', ',', 'exactly', 'happened', 'me.', '<', 'br', '/', '>', '<', 'br', '/', '>', 'first', 'thing', 'struck', 'Oz', 'brutality', 'unflinching', 'scenes', 'violence', ',', 'set', 'right', 'word', 'GO', '.', 'Trust', ',', 'show', 'faint', 'hearted', 'timid', '.', 'show', 'pulls', 'punches', 'regards', 'drugs', ',', 'sex', 'violence', '.', 'hardcore', ',', 'classic', 'use', 'word.', '<', 'br', '/', '>', '<', 'br', '/', '>', 'called', 'OZ', 'nickname', 'given', 'Oswald', 'Maximum', 'Security', 'State', 'Penitentary', '.', 'focuses', 'mainly', 'Emerald', 'City', ',', 'experimental', 'section', 'prison', 'cells', 'glass', 'fronts', 'face', 'inwards', ',', 'privacy', 'high', 'agenda', '.', 'Em', 'City', 'home', 'many', '..', 'Aryans', ',', 'Muslims', ',', 'gangstas', ',', 'Latinos', ',', 'Christians', ',', 'Italians', ',', 'Irish', '....', 'scuffles', ',', 'death', 'stares', ',', 'dodgy', 'dealings', 'shady', 'agreements', 'never', 'far', 'away.', '<', 'br', '/', '>', '<', 'br', '/', '>', 'would', 'say', 'main', 'appeal', 'show', 'due', 'fact', 'goes', 'shows', 'would', \"n't\", 'dare', '.', 'Forget', 'pretty', 'pictures', 'painted', 'mainstream', 'audiences', ',', 'forget', 'charm', ',', 'forget', 'romance', '...', 'OZ', \"n't\", 'mess', 'around', '.', 'first', 'episode', 'ever', 'saw', 'struck', 'nasty', 'surreal', ',', 'could', \"n't\", 'say', 'ready', ',', 'watched', ',', 'developed', 'taste', 'Oz', ',', 'got', 'accustomed', 'high', 'levels', 'graphic', 'violence', '.', 'violence', ',', 'injustice', '(', 'crooked', 'guards', \"'ll\", 'sold', 'nickel', ',', 'inmates', \"'ll\", 'kill', 'order', 'get', 'away', ',', 'well', 'mannered', ',', 'middle', 'class', 'inmates', 'turned', 'prison', 'bitches', 'due', 'lack', 'street', 'skills', 'prison', 'experience', ')', 'Watching', 'Oz', ',', 'may', 'become', 'comfortable', 'uncomfortable', 'viewing', '....', 'thats', 'get', 'touch', 'darker', 'side', '.'], 'stemmed_tokens': ['one', 'review', 'mention', 'watch', '1', 'oz', 'episod', \"'ll\", 'hook', '.', 'right', ',', 'exactli', 'happen', 'me.', '<', 'br', '/', '>', '<', 'br', '/', '>', 'first', 'thing', 'struck', 'oz', 'brutal', 'unflinch', 'scene', 'violenc', ',', 'set', 'right', 'word', 'go', '.', 'trust', ',', 'show', 'faint', 'heart', 'timid', '.', 'show', 'pull', 'punch', 'regard', 'drug', ',', 'sex', 'violenc', '.', 'hardcor', ',', 'classic', 'use', 'word.', '<', 'br', '/', '>', '<', 'br', '/', '>', 'call', 'oz', 'nicknam', 'given', 'oswald', 'maximum', 'secur', 'state', 'penitentari', '.', 'focus', 'mainli', 'emerald', 'citi', ',', 'experiment', 'section', 'prison', 'cell', 'glass', 'front', 'face', 'inward', ',', 'privaci', 'high', 'agenda', '.', 'em', 'citi', 'home', 'mani', '..', 'aryan', ',', 'muslim', ',', 'gangsta', ',', 'latino', ',', 'christian', ',', 'italian', ',', 'irish', '....', 'scuffl', ',', 'death', 'stare', ',', 'dodgi', 'deal', 'shadi', 'agreement', 'never', 'far', 'away.', '<', 'br', '/', '>', '<', 'br', '/', '>', 'would', 'say', 'main', 'appeal', 'show', 'due', 'fact', 'goe', 'show', 'would', \"n't\", 'dare', '.', 'forget', 'pretti', 'pictur', 'paint', 'mainstream', 'audienc', ',', 'forget', 'charm', ',', 'forget', 'romanc', '...', 'oz', \"n't\", 'mess', 'around', '.', 'first', 'episod', 'ever', 'saw', 'struck', 'nasti', 'surreal', ',', 'could', \"n't\", 'say', 'readi', ',', 'watch', ',', 'develop', 'tast', 'oz', ',', 'got', 'accustom', 'high', 'level', 'graphic', 'violenc', '.', 'violenc', ',', 'injustic', '(', 'crook', 'guard', \"'ll\", 'sold', 'nickel', ',', 'inmat', \"'ll\", 'kill', 'order', 'get', 'away', ',', 'well', 'manner', ',', 'middl', 'class', 'inmat', 'turn', 'prison', 'bitch', 'due', 'lack', 'street', 'skill', 'prison', 'experi', ')', 'watch', 'oz', ',', 'may', 'becom', 'comfort', 'uncomfort', 'view', '....', 'that', 'get', 'touch', 'darker', 'side', '.'], 'lemmatized_tokens': ['One', 'reviewer', 'mentioned', 'watching', '1', 'Oz', 'episode', \"'ll\", 'hooked', '.', 'right', ',', 'exactly', 'happened', 'me.', '<', 'br', '/', '>', '<', 'br', '/', '>', 'first', 'thing', 'struck', 'Oz', 'brutality', 'unflinching', 'scene', 'violence', ',', 'set', 'right', 'word', 'GO', '.', 'Trust', ',', 'show', 'faint', 'hearted', 'timid', '.', 'show', 'pull', 'punch', 'regard', 'drug', ',', 'sex', 'violence', '.', 'hardcore', ',', 'classic', 'use', 'word.', '<', 'br', '/', '>', '<', 'br', '/', '>', 'called', 'OZ', 'nickname', 'given', 'Oswald', 'Maximum', 'Security', 'State', 'Penitentary', '.', 'focus', 'mainly', 'Emerald', 'City', ',', 'experimental', 'section', 'prison', 'cell', 'glass', 'front', 'face', 'inwards', ',', 'privacy', 'high', 'agenda', '.', 'Em', 'City', 'home', 'many', '..', 'Aryans', ',', 'Muslims', ',', 'gangsta', ',', 'Latinos', ',', 'Christians', ',', 'Italians', ',', 'Irish', '....', 'scuffle', ',', 'death', 'stare', ',', 'dodgy', 'dealing', 'shady', 'agreement', 'never', 'far', 'away.', '<', 'br', '/', '>', '<', 'br', '/', '>', 'would', 'say', 'main', 'appeal', 'show', 'due', 'fact', 'go', 'show', 'would', \"n't\", 'dare', '.', 'Forget', 'pretty', 'picture', 'painted', 'mainstream', 'audience', ',', 'forget', 'charm', ',', 'forget', 'romance', '...', 'OZ', \"n't\", 'mess', 'around', '.', 'first', 'episode', 'ever', 'saw', 'struck', 'nasty', 'surreal', ',', 'could', \"n't\", 'say', 'ready', ',', 'watched', ',', 'developed', 'taste', 'Oz', ',', 'got', 'accustomed', 'high', 'level', 'graphic', 'violence', '.', 'violence', ',', 'injustice', '(', 'crooked', 'guard', \"'ll\", 'sold', 'nickel', ',', 'inmate', \"'ll\", 'kill', 'order', 'get', 'away', ',', 'well', 'mannered', ',', 'middle', 'class', 'inmate', 'turned', 'prison', 'bitch', 'due', 'lack', 'street', 'skill', 'prison', 'experience', ')', 'Watching', 'Oz', ',', 'may', 'become', 'comfortable', 'uncomfortable', 'viewing', '....', 'thats', 'get', 'touch', 'darker', 'side', '.']}\n",
            "\n",
            "SpaCy Preprocessed Output:\n",
            " {'tokens': ['One', 'of', 'the', 'other', 'reviewers', 'has', 'mentioned', 'that', 'after', 'watching', 'just', '1', 'Oz', 'episode', 'you', \"'ll\", 'be', 'hooked', '.', 'They', 'are', 'right', ',', 'as', 'this', 'is', 'exactly', 'what', 'happened', 'with', 'me.<br', '/><br', '/>The', 'first', 'thing', 'that', 'struck', 'me', 'about', 'Oz', 'was', 'its', 'brutality', 'and', 'unflinching', 'scenes', 'of', 'violence', ',', 'which', 'set', 'in', 'right', 'from', 'the', 'word', 'GO', '.', 'Trust', 'me', ',', 'this', 'is', 'not', 'a', 'show', 'for', 'the', 'faint', 'hearted', 'or', 'timid', '.', 'This', 'show', 'pulls', 'no', 'punches', 'with', 'regards', 'to', 'drugs', ',', 'sex', 'or', 'violence', '.', 'Its', 'is', 'hardcore', ',', 'in', 'the', 'classic', 'use', 'of', 'the', 'word.<br', '/><br', '/>It', 'is', 'called', 'OZ', 'as', 'that', 'is', 'the', 'nickname', 'given', 'to', 'the', 'Oswald', 'Maximum', 'Security', 'State', 'Penitentary', '.', 'It', 'focuses', 'mainly', 'on', 'Emerald', 'City', ',', 'an', 'experimental', 'section', 'of', 'the', 'prison', 'where', 'all', 'the', 'cells', 'have', 'glass', 'fronts', 'and', 'face', 'inwards', ',', 'so', 'privacy', 'is', 'not', 'high', 'on', 'the', 'agenda', '.', 'Em', 'City', 'is', 'home', 'to', 'many', '..', 'Aryans', ',', 'Muslims', ',', 'gangstas', ',', 'Latinos', ',', 'Christians', ',', 'Italians', ',', 'Irish', 'and', 'more', '....', 'so', 'scuffles', ',', 'death', 'stares', ',', 'dodgy', 'dealings', 'and', 'shady', 'agreements', 'are', 'never', 'far', 'away.<br', '/><br', '/>I', 'would', 'say', 'the', 'main', 'appeal', 'of', 'the', 'show', 'is', 'due', 'to', 'the', 'fact', 'that', 'it', 'goes', 'where', 'other', 'shows', 'would', \"n't\", 'dare', '.', 'Forget', 'pretty', 'pictures', 'painted', 'for', 'mainstream', 'audiences', ',', 'forget', 'charm', ',', 'forget', 'romance', '...', 'OZ', 'does', \"n't\", 'mess', 'around', '.', 'The', 'first', 'episode', 'I', 'ever', 'saw', 'struck', 'me', 'as', 'so', 'nasty', 'it', 'was', 'surreal', ',', 'I', 'could', \"n't\", 'say', 'I', 'was', 'ready', 'for', 'it', ',', 'but', 'as', 'I', 'watched', 'more', ',', 'I', 'developed', 'a', 'taste', 'for', 'Oz', ',', 'and', 'got', 'accustomed', 'to', 'the', 'high', 'levels', 'of', 'graphic', 'violence', '.', 'Not', 'just', 'violence', ',', 'but', 'injustice', '(', 'crooked', 'guards', 'who', \"'ll\", 'be', 'sold', 'out', 'for', 'a', 'nickel', ',', 'inmates', 'who', \"'ll\", 'kill', 'on', 'order', 'and', 'get', 'away', 'with', 'it', ',', 'well', 'mannered', ',', 'middle', 'class', 'inmates', 'being', 'turned', 'into', 'prison', 'bitches', 'due', 'to', 'their', 'lack', 'of', 'street', 'skills', 'or', 'prison', 'experience', ')', 'Watching', 'Oz', ',', 'you', 'may', 'become', 'comfortable', 'with', 'what', 'is', 'uncomfortable', 'viewing', '....', 'thats', 'if', 'you', 'can', 'get', 'in', 'touch', 'with', 'your', 'darker', 'side', '.'], 'filtered_tokens': ['reviewers', 'mentioned', 'watching', '1', 'Oz', 'episode', 'hooked', '.', 'right', ',', 'exactly', 'happened', 'me.<br', '/><br', '/>The', 'thing', 'struck', 'Oz', 'brutality', 'unflinching', 'scenes', 'violence', ',', 'set', 'right', 'word', '.', 'Trust', ',', 'faint', 'hearted', 'timid', '.', 'pulls', 'punches', 'regards', 'drugs', ',', 'sex', 'violence', '.', 'hardcore', ',', 'classic', 'use', 'word.<br', '/><br', '/>It', 'called', 'OZ', 'nickname', 'given', 'Oswald', 'Maximum', 'Security', 'State', 'Penitentary', '.', 'focuses', 'mainly', 'Emerald', 'City', ',', 'experimental', 'section', 'prison', 'cells', 'glass', 'fronts', 'face', 'inwards', ',', 'privacy', 'high', 'agenda', '.', 'Em', 'City', 'home', '..', 'Aryans', ',', 'Muslims', ',', 'gangstas', ',', 'Latinos', ',', 'Christians', ',', 'Italians', ',', 'Irish', '....', 'scuffles', ',', 'death', 'stares', ',', 'dodgy', 'dealings', 'shady', 'agreements', 'far', 'away.<br', '/><br', '/>I', 'main', 'appeal', 'fact', 'goes', 'shows', 'dare', '.', 'Forget', 'pretty', 'pictures', 'painted', 'mainstream', 'audiences', ',', 'forget', 'charm', ',', 'forget', 'romance', '...', 'OZ', 'mess', '.', 'episode', 'saw', 'struck', 'nasty', 'surreal', ',', 'ready', ',', 'watched', ',', 'developed', 'taste', 'Oz', ',', 'got', 'accustomed', 'high', 'levels', 'graphic', 'violence', '.', 'violence', ',', 'injustice', '(', 'crooked', 'guards', 'sold', 'nickel', ',', 'inmates', 'kill', 'order', 'away', ',', 'mannered', ',', 'middle', 'class', 'inmates', 'turned', 'prison', 'bitches', 'lack', 'street', 'skills', 'prison', 'experience', ')', 'Watching', 'Oz', ',', 'comfortable', 'uncomfortable', 'viewing', '....', 'thats', 'touch', 'darker', '.'], 'lemmatized_tokens': ['one', 'of', 'the', 'other', 'reviewer', 'have', 'mention', 'that', 'after', 'watch', 'just', '1', 'oz', 'episode', 'you', 'will', 'be', 'hook', '.', 'they', 'be', 'right', ',', 'as', 'this', 'be', 'exactly', 'what', 'happen', 'with', 'me.<br', '/><br', '/>the', 'first', 'thing', 'that', 'strike', 'I', 'about', 'Oz', 'be', 'its', 'brutality', 'and', 'unflinche', 'scene', 'of', 'violence', ',', 'which', 'set', 'in', 'right', 'from', 'the', 'word', 'GO', '.', 'trust', 'I', ',', 'this', 'be', 'not', 'a', 'show', 'for', 'the', 'faint', 'hearted', 'or', 'timid', '.', 'this', 'show', 'pull', 'no', 'punch', 'with', 'regard', 'to', 'drug', ',', 'sex', 'or', 'violence', '.', 'its', 'be', 'hardcore', ',', 'in', 'the', 'classic', 'use', 'of', 'the', 'word.<br', '/><br', '/>it', 'be', 'call', 'OZ', 'as', 'that', 'be', 'the', 'nickname', 'give', 'to', 'the', 'Oswald', 'Maximum', 'Security', 'State', 'Penitentary', '.', 'it', 'focus', 'mainly', 'on', 'Emerald', 'City', ',', 'an', 'experimental', 'section', 'of', 'the', 'prison', 'where', 'all', 'the', 'cell', 'have', 'glass', 'front', 'and', 'face', 'inward', ',', 'so', 'privacy', 'be', 'not', 'high', 'on', 'the', 'agenda', '.', 'Em', 'City', 'be', 'home', 'to', 'many', '..', 'aryan', ',', 'Muslims', ',', 'gangsta', ',', 'Latinos', ',', 'Christians', ',', 'Italians', ',', 'irish', 'and', 'more', '....', 'so', 'scuffle', ',', 'death', 'stare', ',', 'dodgy', 'dealing', 'and', 'shady', 'agreement', 'be', 'never', 'far', 'away.<br', '/><br', '/>i', 'would', 'say', 'the', 'main', 'appeal', 'of', 'the', 'show', 'be', 'due', 'to', 'the', 'fact', 'that', 'it', 'go', 'where', 'other', 'show', 'would', 'not', 'dare', '.', 'forget', 'pretty', 'picture', 'paint', 'for', 'mainstream', 'audience', ',', 'forget', 'charm', ',', 'forget', 'romance', '...', 'oz', 'do', 'not', 'mess', 'around', '.', 'the', 'first', 'episode', 'I', 'ever', 'see', 'strike', 'I', 'as', 'so', 'nasty', 'it', 'be', 'surreal', ',', 'I', 'could', 'not', 'say', 'I', 'be', 'ready', 'for', 'it', ',', 'but', 'as', 'I', 'watch', 'more', ',', 'I', 'develop', 'a', 'taste', 'for', 'Oz', ',', 'and', 'get', 'accustomed', 'to', 'the', 'high', 'level', 'of', 'graphic', 'violence', '.', 'not', 'just', 'violence', ',', 'but', 'injustice', '(', 'crooked', 'guard', 'who', 'will', 'be', 'sell', 'out', 'for', 'a', 'nickel', ',', 'inmate', 'who', 'will', 'kill', 'on', 'order', 'and', 'get', 'away', 'with', 'it', ',', 'well', 'mannered', ',', 'middle', 'class', 'inmate', 'be', 'turn', 'into', 'prison', 'bitch', 'due', 'to', 'their', 'lack', 'of', 'street', 'skill', 'or', 'prison', 'experience', ')', 'watch', 'Oz', ',', 'you', 'may', 'become', 'comfortable', 'with', 'what', 'be', 'uncomfortable', 'viewing', '....', 'that', 'if', 'you', 'can', 'get', 'in', 'touch', 'with', 'your', 'dark', 'side', '.']}\n"
          ]
        }
      ]
    },
    {
      "cell_type": "code",
      "source": [
        "# Compare NLTK and SpaCy results\n",
        "print(\"\\nComparison of NLTK and SpaCy Tokenization:\")\n",
        "print(f\"NLTK Tokens: {nltk_preprocessed['filtered_tokens']}\")\n",
        "print(f\"SpaCy Tokens: {spacy_preprocessed['filtered_tokens']}\")\n",
        "# SpaCy’s tokenization might differ because it can handle contractions like \"isn't\" as \"is\" and \"n't\", while NLTK may treat them as a single token.\n"
      ],
      "metadata": {
        "colab": {
          "base_uri": "https://localhost:8080/"
        },
        "id": "9Kl9Is_AcpMZ",
        "outputId": "c0491813-ff2c-46c4-eb9a-e7908fa3437b"
      },
      "execution_count": 9,
      "outputs": [
        {
          "output_type": "stream",
          "name": "stdout",
          "text": [
            "\n",
            "Comparison of NLTK and SpaCy Tokenization:\n",
            "NLTK Tokens: ['One', 'reviewers', 'mentioned', 'watching', '1', 'Oz', 'episode', \"'ll\", 'hooked', '.', 'right', ',', 'exactly', 'happened', 'me.', '<', 'br', '/', '>', '<', 'br', '/', '>', 'first', 'thing', 'struck', 'Oz', 'brutality', 'unflinching', 'scenes', 'violence', ',', 'set', 'right', 'word', 'GO', '.', 'Trust', ',', 'show', 'faint', 'hearted', 'timid', '.', 'show', 'pulls', 'punches', 'regards', 'drugs', ',', 'sex', 'violence', '.', 'hardcore', ',', 'classic', 'use', 'word.', '<', 'br', '/', '>', '<', 'br', '/', '>', 'called', 'OZ', 'nickname', 'given', 'Oswald', 'Maximum', 'Security', 'State', 'Penitentary', '.', 'focuses', 'mainly', 'Emerald', 'City', ',', 'experimental', 'section', 'prison', 'cells', 'glass', 'fronts', 'face', 'inwards', ',', 'privacy', 'high', 'agenda', '.', 'Em', 'City', 'home', 'many', '..', 'Aryans', ',', 'Muslims', ',', 'gangstas', ',', 'Latinos', ',', 'Christians', ',', 'Italians', ',', 'Irish', '....', 'scuffles', ',', 'death', 'stares', ',', 'dodgy', 'dealings', 'shady', 'agreements', 'never', 'far', 'away.', '<', 'br', '/', '>', '<', 'br', '/', '>', 'would', 'say', 'main', 'appeal', 'show', 'due', 'fact', 'goes', 'shows', 'would', \"n't\", 'dare', '.', 'Forget', 'pretty', 'pictures', 'painted', 'mainstream', 'audiences', ',', 'forget', 'charm', ',', 'forget', 'romance', '...', 'OZ', \"n't\", 'mess', 'around', '.', 'first', 'episode', 'ever', 'saw', 'struck', 'nasty', 'surreal', ',', 'could', \"n't\", 'say', 'ready', ',', 'watched', ',', 'developed', 'taste', 'Oz', ',', 'got', 'accustomed', 'high', 'levels', 'graphic', 'violence', '.', 'violence', ',', 'injustice', '(', 'crooked', 'guards', \"'ll\", 'sold', 'nickel', ',', 'inmates', \"'ll\", 'kill', 'order', 'get', 'away', ',', 'well', 'mannered', ',', 'middle', 'class', 'inmates', 'turned', 'prison', 'bitches', 'due', 'lack', 'street', 'skills', 'prison', 'experience', ')', 'Watching', 'Oz', ',', 'may', 'become', 'comfortable', 'uncomfortable', 'viewing', '....', 'thats', 'get', 'touch', 'darker', 'side', '.']\n",
            "SpaCy Tokens: ['reviewers', 'mentioned', 'watching', '1', 'Oz', 'episode', 'hooked', '.', 'right', ',', 'exactly', 'happened', 'me.<br', '/><br', '/>The', 'thing', 'struck', 'Oz', 'brutality', 'unflinching', 'scenes', 'violence', ',', 'set', 'right', 'word', '.', 'Trust', ',', 'faint', 'hearted', 'timid', '.', 'pulls', 'punches', 'regards', 'drugs', ',', 'sex', 'violence', '.', 'hardcore', ',', 'classic', 'use', 'word.<br', '/><br', '/>It', 'called', 'OZ', 'nickname', 'given', 'Oswald', 'Maximum', 'Security', 'State', 'Penitentary', '.', 'focuses', 'mainly', 'Emerald', 'City', ',', 'experimental', 'section', 'prison', 'cells', 'glass', 'fronts', 'face', 'inwards', ',', 'privacy', 'high', 'agenda', '.', 'Em', 'City', 'home', '..', 'Aryans', ',', 'Muslims', ',', 'gangstas', ',', 'Latinos', ',', 'Christians', ',', 'Italians', ',', 'Irish', '....', 'scuffles', ',', 'death', 'stares', ',', 'dodgy', 'dealings', 'shady', 'agreements', 'far', 'away.<br', '/><br', '/>I', 'main', 'appeal', 'fact', 'goes', 'shows', 'dare', '.', 'Forget', 'pretty', 'pictures', 'painted', 'mainstream', 'audiences', ',', 'forget', 'charm', ',', 'forget', 'romance', '...', 'OZ', 'mess', '.', 'episode', 'saw', 'struck', 'nasty', 'surreal', ',', 'ready', ',', 'watched', ',', 'developed', 'taste', 'Oz', ',', 'got', 'accustomed', 'high', 'levels', 'graphic', 'violence', '.', 'violence', ',', 'injustice', '(', 'crooked', 'guards', 'sold', 'nickel', ',', 'inmates', 'kill', 'order', 'away', ',', 'mannered', ',', 'middle', 'class', 'inmates', 'turned', 'prison', 'bitches', 'lack', 'street', 'skills', 'prison', 'experience', ')', 'Watching', 'Oz', ',', 'comfortable', 'uncomfortable', 'viewing', '....', 'thats', 'touch', 'darker', '.']\n"
          ]
        }
      ]
    },
    {
      "cell_type": "code",
      "source": [
        "\n",
        "print(\"\\nComparison of NLTK and SpaCy Lemmatization:\")\n",
        "print(f\"NLTK Lemmatized Tokens: {nltk_preprocessed['lemmatized_tokens']}\")\n",
        "print(f\"SpaCy Lemmatized Tokens: {spacy_preprocessed['lemmatized_tokens']}\")\n",
        "# SpaCy’s lemmatization tends to be more accurate and context-aware because it uses a more comprehensive rule-based approach and vocabulary. NLTK’s WordNetLemmatizer, in contrast, sometimes only reduces words to their base form without considering context.\n"
      ],
      "metadata": {
        "colab": {
          "base_uri": "https://localhost:8080/"
        },
        "id": "r_-NSxQrczIK",
        "outputId": "44d14c86-e74d-4e22-8347-b4cdca974d27"
      },
      "execution_count": 10,
      "outputs": [
        {
          "output_type": "stream",
          "name": "stdout",
          "text": [
            "\n",
            "Comparison of NLTK and SpaCy Lemmatization:\n",
            "NLTK Lemmatized Tokens: ['One', 'reviewer', 'mentioned', 'watching', '1', 'Oz', 'episode', \"'ll\", 'hooked', '.', 'right', ',', 'exactly', 'happened', 'me.', '<', 'br', '/', '>', '<', 'br', '/', '>', 'first', 'thing', 'struck', 'Oz', 'brutality', 'unflinching', 'scene', 'violence', ',', 'set', 'right', 'word', 'GO', '.', 'Trust', ',', 'show', 'faint', 'hearted', 'timid', '.', 'show', 'pull', 'punch', 'regard', 'drug', ',', 'sex', 'violence', '.', 'hardcore', ',', 'classic', 'use', 'word.', '<', 'br', '/', '>', '<', 'br', '/', '>', 'called', 'OZ', 'nickname', 'given', 'Oswald', 'Maximum', 'Security', 'State', 'Penitentary', '.', 'focus', 'mainly', 'Emerald', 'City', ',', 'experimental', 'section', 'prison', 'cell', 'glass', 'front', 'face', 'inwards', ',', 'privacy', 'high', 'agenda', '.', 'Em', 'City', 'home', 'many', '..', 'Aryans', ',', 'Muslims', ',', 'gangsta', ',', 'Latinos', ',', 'Christians', ',', 'Italians', ',', 'Irish', '....', 'scuffle', ',', 'death', 'stare', ',', 'dodgy', 'dealing', 'shady', 'agreement', 'never', 'far', 'away.', '<', 'br', '/', '>', '<', 'br', '/', '>', 'would', 'say', 'main', 'appeal', 'show', 'due', 'fact', 'go', 'show', 'would', \"n't\", 'dare', '.', 'Forget', 'pretty', 'picture', 'painted', 'mainstream', 'audience', ',', 'forget', 'charm', ',', 'forget', 'romance', '...', 'OZ', \"n't\", 'mess', 'around', '.', 'first', 'episode', 'ever', 'saw', 'struck', 'nasty', 'surreal', ',', 'could', \"n't\", 'say', 'ready', ',', 'watched', ',', 'developed', 'taste', 'Oz', ',', 'got', 'accustomed', 'high', 'level', 'graphic', 'violence', '.', 'violence', ',', 'injustice', '(', 'crooked', 'guard', \"'ll\", 'sold', 'nickel', ',', 'inmate', \"'ll\", 'kill', 'order', 'get', 'away', ',', 'well', 'mannered', ',', 'middle', 'class', 'inmate', 'turned', 'prison', 'bitch', 'due', 'lack', 'street', 'skill', 'prison', 'experience', ')', 'Watching', 'Oz', ',', 'may', 'become', 'comfortable', 'uncomfortable', 'viewing', '....', 'thats', 'get', 'touch', 'darker', 'side', '.']\n",
            "SpaCy Lemmatized Tokens: ['one', 'of', 'the', 'other', 'reviewer', 'have', 'mention', 'that', 'after', 'watch', 'just', '1', 'oz', 'episode', 'you', 'will', 'be', 'hook', '.', 'they', 'be', 'right', ',', 'as', 'this', 'be', 'exactly', 'what', 'happen', 'with', 'me.<br', '/><br', '/>the', 'first', 'thing', 'that', 'strike', 'I', 'about', 'Oz', 'be', 'its', 'brutality', 'and', 'unflinche', 'scene', 'of', 'violence', ',', 'which', 'set', 'in', 'right', 'from', 'the', 'word', 'GO', '.', 'trust', 'I', ',', 'this', 'be', 'not', 'a', 'show', 'for', 'the', 'faint', 'hearted', 'or', 'timid', '.', 'this', 'show', 'pull', 'no', 'punch', 'with', 'regard', 'to', 'drug', ',', 'sex', 'or', 'violence', '.', 'its', 'be', 'hardcore', ',', 'in', 'the', 'classic', 'use', 'of', 'the', 'word.<br', '/><br', '/>it', 'be', 'call', 'OZ', 'as', 'that', 'be', 'the', 'nickname', 'give', 'to', 'the', 'Oswald', 'Maximum', 'Security', 'State', 'Penitentary', '.', 'it', 'focus', 'mainly', 'on', 'Emerald', 'City', ',', 'an', 'experimental', 'section', 'of', 'the', 'prison', 'where', 'all', 'the', 'cell', 'have', 'glass', 'front', 'and', 'face', 'inward', ',', 'so', 'privacy', 'be', 'not', 'high', 'on', 'the', 'agenda', '.', 'Em', 'City', 'be', 'home', 'to', 'many', '..', 'aryan', ',', 'Muslims', ',', 'gangsta', ',', 'Latinos', ',', 'Christians', ',', 'Italians', ',', 'irish', 'and', 'more', '....', 'so', 'scuffle', ',', 'death', 'stare', ',', 'dodgy', 'dealing', 'and', 'shady', 'agreement', 'be', 'never', 'far', 'away.<br', '/><br', '/>i', 'would', 'say', 'the', 'main', 'appeal', 'of', 'the', 'show', 'be', 'due', 'to', 'the', 'fact', 'that', 'it', 'go', 'where', 'other', 'show', 'would', 'not', 'dare', '.', 'forget', 'pretty', 'picture', 'paint', 'for', 'mainstream', 'audience', ',', 'forget', 'charm', ',', 'forget', 'romance', '...', 'oz', 'do', 'not', 'mess', 'around', '.', 'the', 'first', 'episode', 'I', 'ever', 'see', 'strike', 'I', 'as', 'so', 'nasty', 'it', 'be', 'surreal', ',', 'I', 'could', 'not', 'say', 'I', 'be', 'ready', 'for', 'it', ',', 'but', 'as', 'I', 'watch', 'more', ',', 'I', 'develop', 'a', 'taste', 'for', 'Oz', ',', 'and', 'get', 'accustomed', 'to', 'the', 'high', 'level', 'of', 'graphic', 'violence', '.', 'not', 'just', 'violence', ',', 'but', 'injustice', '(', 'crooked', 'guard', 'who', 'will', 'be', 'sell', 'out', 'for', 'a', 'nickel', ',', 'inmate', 'who', 'will', 'kill', 'on', 'order', 'and', 'get', 'away', 'with', 'it', ',', 'well', 'mannered', ',', 'middle', 'class', 'inmate', 'be', 'turn', 'into', 'prison', 'bitch', 'due', 'to', 'their', 'lack', 'of', 'street', 'skill', 'or', 'prison', 'experience', ')', 'watch', 'Oz', ',', 'you', 'may', 'become', 'comfortable', 'with', 'what', 'be', 'uncomfortable', 'viewing', '....', 'that', 'if', 'you', 'can', 'get', 'in', 'touch', 'with', 'your', 'dark', 'side', '.']\n"
          ]
        }
      ]
    },
    {
      "cell_type": "code",
      "source": [
        "\n",
        "# Visual comparison of tokenization differences\n",
        "nltk_tokens = nltk_preprocessed['filtered_tokens']\n",
        "spacy_tokens = spacy_preprocessed['filtered_tokens']\n",
        "\n",
        "# Plotting token frequency for comparison\n",
        "plt.figure(figsize=(14, 6))\n",
        "nltk_token_counts = pd.Series(nltk_tokens).value_counts().head(10)\n",
        "spacy_token_counts = pd.Series(spacy_tokens).value_counts().head(10)\n",
        "\n",
        "# Plot NLTK Token Frequencies\n",
        "plt.subplot(1, 2, 1)\n",
        "nltk_token_counts.plot(kind='bar', color='skyblue')\n",
        "plt.title('Top 10 NLTK Tokens')\n",
        "plt.ylabel('Frequency')\n",
        "\n",
        "# Plot SpaCy Token Frequencies\n",
        "plt.subplot(1, 2, 2)\n",
        "spacy_token_counts.plot(kind='bar', color='orange')\n",
        "plt.title('Top 10 SpaCy Tokens')\n",
        "plt.ylabel('Frequency')\n",
        "\n",
        "plt.suptitle('Comparison of NLTK vs SpaCy Tokenization')\n",
        "plt.show()\n"
      ],
      "metadata": {
        "colab": {
          "base_uri": "https://localhost:8080/",
          "height": 626
        },
        "id": "1YXjyZnec5co",
        "outputId": "f49d2b15-2206-4513-b567-cbebf7293db1"
      },
      "execution_count": 11,
      "outputs": [
        {
          "output_type": "display_data",
          "data": {
            "text/plain": [
              "<Figure size 1400x600 with 2 Axes>"
            ],
            "image/png": "[encoded data removed]"
          },
          "metadata": {}
        }
      ]
    },
    {
      "cell_type": "code",
      "source": [],
      "metadata": {
        "id": "TlR_6jg7dCC0"
      },
      "execution_count": null,
      "outputs": []
    },
    {
      "cell_type": "markdown",
      "source": [
        "Differences Between NLTK and spaCy:\n",
        "1. **Ease of Use**:\n",
        "   - **NLTK**: Offers more control and is modular, but can be more complex and requires manual setup for many tasks.\n",
        "   - **spaCy**: Designed for fast, efficient NLP with pre-trained models, making it easier for practical applications.\n",
        "2. **Performance**:\n",
        "   - **NLTK**: Slower, especially for large datasets.\n",
        "   - **spaCy**: Optimized for performance, great for handling large text corpora quickly.\n",
        "3. **Applications**:\n",
        "   - **NLTK**: Ideal for research and experimentation, as it provides a wide range of tools and algorithms.\n",
        "   - **spaCy**: Better suited for production-level applications where speed and ease of deployment are critical.\n",
        "In short:\n",
        "- Use **NLTK** for flexibility and in-depth experimentation.\n",
        "- Use **spaCy** when you need speed and ready-to-use NLP pipelines for production systems.\n",
        "\n"
      ],
      "metadata": {
        "id": "zr0KjyPqiU6J"
      }
    },
    {
      "cell_type": "code",
      "source": [],
      "metadata": {
        "id": "X-KIgT3qiWaK"
      },
      "execution_count": null,
      "outputs": []
    }
  ]
}